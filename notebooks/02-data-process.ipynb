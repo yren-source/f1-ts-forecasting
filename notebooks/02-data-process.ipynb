{
 "cells": [
  {
   "cell_type": "markdown",
   "id": "8ae9e01c-8379-4fa3-95e4-255d26a706dc",
   "metadata": {},
   "source": [
    "# Data Processing - Lap records in Formula 1"
   ]
  },
  {
   "cell_type": "markdown",
   "id": "f042e2b6-45b9-4df1-8a2c-c54b32305f6c",
   "metadata": {},
   "source": [
    "## Overview\n",
    "\n",
    "Data Processing is one important phase during the _machine learning (ML) pipeline_. \r\n",
    "\r\n",
    "It usually works with Feature Engineering to transform data from a given form to a much more usable and desired form for ML models. \r\n",
    "\r\n",
    "By using Machine Learning algorithms, mathematical modeling, and statistical knowledge, this entire process can be automated. \r\n",
    "Data processing is a crucial step in the machine learning (ML) pipeline, as it prepares the data for use in building and training ML models. The goal of data processing is to clean, transform, and prepare the data in a format that is suitable for modeling.\r\n",
    "\r\n",
    "The techniques involved in data processing could be various.e desired outcome."
   ]
  },
  {
   "cell_type": "markdown",
   "id": "63c6202a-a0b2-4157-93e3-47dabc5bd189",
   "metadata": {},
   "source": [
    "<img src=\"../pictures/data-processing.png\" width=\"400\">"
   ]
  },
  {
   "cell_type": "code",
   "execution_count": 1,
   "id": "0a2882fd-8691-4b07-9fb7-9ed29442712c",
   "metadata": {},
   "outputs": [],
   "source": [
    "# import libraries\n",
    "\n",
    "import warnings\n",
    "warnings.simplefilter(action='ignore', category=FutureWarning)\n",
    "\n",
    "import pandas as pd\n",
    "import numpy as np\n",
    "import sklearn as sk\n",
    "from datetime import timedelta\n",
    "from ipywidgets import widgets, interact\n",
    "pd.options.mode.chained_assignment = None"
   ]
  },
  {
   "cell_type": "markdown",
   "id": "cd870f1b-f54d-49d1-9191-8b70055af0b8",
   "metadata": {},
   "source": [
    "## (1) Data Acquisition - loading datasets"
   ]
  },
  {
   "cell_type": "code",
   "execution_count": 2,
   "id": "2dea65e2-c136-4264-b404-163bf88ddf2b",
   "metadata": {},
   "outputs": [],
   "source": [
    "df_raw_lap_times = pd.read_csv('../data/01-raw/lap_times.csv')  \n",
    "df_raw_pit_stops = pd.read_csv('../data/01-raw/pit_stops.csv')  \n",
    "df_raw_races = pd.read_csv('../data/01-raw/races.csv')\n",
    "df_raw_results = pd.read_csv('../data/01-raw/results.csv') "
   ]
  },
  {
   "cell_type": "markdown",
   "id": "5fd0bb42-3fda-4e0e-99b5-0abc2aa42958",
   "metadata": {},
   "source": [
    "## (2) Data Processing"
   ]
  },
  {
   "cell_type": "markdown",
   "id": "e725dc2b-a31e-42a3-808f-06a01be3eaec",
   "metadata": {},
   "source": [
    "### (2.1) Drop unnecessary features"
   ]
  },
  {
   "cell_type": "code",
   "execution_count": 3,
   "id": "896bd4ee-ddc7-4a76-9d34-7405fd49a258",
   "metadata": {},
   "outputs": [
    {
     "data": {
      "text/plain": [
       "Index(['raceId', 'driverId', 'lap', 'milliseconds'], dtype='object')"
      ]
     },
     "execution_count": 3,
     "metadata": {},
     "output_type": "execute_result"
    }
   ],
   "source": [
    "df_raw_lap_times.drop(columns=['position', 'time'], inplace=True)\n",
    "df_raw_lap_times.columns"
   ]
  },
  {
   "cell_type": "code",
   "execution_count": 4,
   "id": "71d7740a-e596-4002-b64b-708b388412ee",
   "metadata": {},
   "outputs": [
    {
     "data": {
      "text/plain": [
       "Index(['raceId', 'driverId', 'lap', 'milliseconds'], dtype='object')"
      ]
     },
     "execution_count": 4,
     "metadata": {},
     "output_type": "execute_result"
    }
   ],
   "source": [
    "df_raw_pit_stops.drop(columns=['stop', 'time', 'duration'], inplace=True)\n",
    "df_raw_pit_stops.columns"
   ]
  },
  {
   "cell_type": "code",
   "execution_count": 5,
   "id": "9c0b44fe-7c14-4944-ae0f-7ac570fc10a5",
   "metadata": {},
   "outputs": [
    {
     "data": {
      "text/plain": [
       "Index(['raceId', 'driverId', 'lap', 'milliseconds'], dtype='object')"
      ]
     },
     "execution_count": 5,
     "metadata": {},
     "output_type": "execute_result"
    }
   ],
   "source": [
    "df_raw_races.drop(columns=['round', 'circuitId', 'url', 'fp1_date', 'fp1_time', 'fp2_date', 'fp2_time', 'fp3_date', 'fp3_time',\n",
    "       'quali_date', 'quali_time', 'sprint_date', 'sprint_time'], inplace=True)\n",
    "df_raw_pit_stops.columns"
   ]
  },
  {
   "cell_type": "code",
   "execution_count": 6,
   "id": "b546fba3-259c-4085-8e84-5d06869c31a4",
   "metadata": {},
   "outputs": [
    {
     "data": {
      "text/plain": [
       "Index(['resultId', 'raceId', 'driverId', 'number', 'laps', 'milliseconds',\n",
       "       'fastestLapTime'],\n",
       "      dtype='object')"
      ]
     },
     "execution_count": 6,
     "metadata": {},
     "output_type": "execute_result"
    }
   ],
   "source": [
    "df_raw_results.drop(columns=['constructorId', 'grid', 'position', 'positionText', 'positionOrder', 'points', 'time', 'fastestLap', 'rank', 'fastestLapSpeed', 'statusId'], inplace=True)\n",
    "df_raw_results.columns"
   ]
  },
  {
   "cell_type": "markdown",
   "id": "2145725b-d23d-46f3-8417-be6babaa9e36",
   "metadata": {},
   "source": [
    "### (2.2) Rename features and prepare to aggregation"
   ]
  },
  {
   "cell_type": "code",
   "execution_count": 7,
   "id": "d49a113d-bd74-4bd2-8356-369f1085b6ce",
   "metadata": {},
   "outputs": [
    {
     "data": {
      "text/plain": [
       "Index(['raceId', 'driverId', 'lap', 'milliseconds_each_lap'], dtype='object')"
      ]
     },
     "execution_count": 7,
     "metadata": {},
     "output_type": "execute_result"
    }
   ],
   "source": [
    "df_raw_lap_times.rename(columns={\"milliseconds\":\"milliseconds_each_lap\"}, inplace=True)\n",
    "df_raw_lap_times.columns"
   ]
  },
  {
   "cell_type": "code",
   "execution_count": 8,
   "id": "39dcb104-7301-4f79-a18a-9c31d575e03a",
   "metadata": {},
   "outputs": [
    {
     "data": {
      "text/plain": [
       "Index(['raceId', 'driverId', 'lap', 'pit_milliseconds'], dtype='object')"
      ]
     },
     "execution_count": 8,
     "metadata": {},
     "output_type": "execute_result"
    }
   ],
   "source": [
    "df_raw_pit_stops.rename(columns={\"milliseconds\":\"pit_milliseconds\"}, inplace=True)\n",
    "df_raw_pit_stops.columns"
   ]
  },
  {
   "cell_type": "code",
   "execution_count": 9,
   "id": "78420042-eb7c-47f3-a04d-49fad6d7ac57",
   "metadata": {},
   "outputs": [
    {
     "data": {
      "text/plain": [
       "Index(['raceId', 'year', 'event_name', 'event_date', 'event_time'], dtype='object')"
      ]
     },
     "execution_count": 9,
     "metadata": {},
     "output_type": "execute_result"
    }
   ],
   "source": [
    "df_raw_races.rename(columns={\"name\": \"event_name\", \"date\": \"event_date\", \"time\": \"event_time\"}, inplace=True)\n",
    "df_raw_races.columns"
   ]
  },
  {
   "cell_type": "code",
   "execution_count": 10,
   "id": "63afe2d7-9f7a-4042-b8d6-b70c7204eab1",
   "metadata": {},
   "outputs": [
    {
     "data": {
      "text/plain": [
       "Index(['resultId', 'raceId', 'driverId', 'results_car_number', 'total_laps',\n",
       "       'total_race_milliseconds', 'event_fastestLapTime'],\n",
       "      dtype='object')"
      ]
     },
     "execution_count": 10,
     "metadata": {},
     "output_type": "execute_result"
    }
   ],
   "source": [
    "df_raw_results.rename(columns={\"number\": \"results_car_number\", \\\n",
    "                               \"laps\": \"total_laps\", \\\n",
    "                               \"milliseconds\": \"total_race_milliseconds\", \\\n",
    "                               \"fastestLapTime\": \"event_fastestLapTime\"}, inplace=True)\n",
    "df_raw_results.columns"
   ]
  },
  {
   "cell_type": "markdown",
   "id": "2489f66c-27ad-40b4-8aff-95cbe946c4ea",
   "metadata": {},
   "source": [
    "### (2.3) Aggregate datasets - lap_time + pit_stops"
   ]
  },
  {
   "cell_type": "code",
   "execution_count": 11,
   "id": "6a041868-c80f-4ce2-b440-0aef31be7dbb",
   "metadata": {},
   "outputs": [
    {
     "name": "stdout",
     "output_type": "stream",
     "text": [
      "(551742, 5)\n"
     ]
    },
    {
     "data": {
      "text/plain": [
       "Index(['raceId', 'driverId', 'lap', 'milliseconds_each_lap',\n",
       "       'pit_milliseconds'],\n",
       "      dtype='object')"
      ]
     },
     "execution_count": 11,
     "metadata": {},
     "output_type": "execute_result"
    }
   ],
   "source": [
    "pd_pit_lap = pd.merge(df_raw_lap_times, df_raw_pit_stops, how=\"left\", on=['raceId', 'driverId', 'lap'])\n",
    "print(pd_pit_lap.shape)\n",
    "pd_pit_lap.columns"
   ]
  },
  {
   "cell_type": "code",
   "execution_count": 12,
   "id": "e2d786ae-aa52-4ebf-ab91-311700116b5e",
   "metadata": {},
   "outputs": [
    {
     "data": {
      "text/html": [
       "<div>\n",
       "<style scoped>\n",
       "    .dataframe tbody tr th:only-of-type {\n",
       "        vertical-align: middle;\n",
       "    }\n",
       "\n",
       "    .dataframe tbody tr th {\n",
       "        vertical-align: top;\n",
       "    }\n",
       "\n",
       "    .dataframe thead th {\n",
       "        text-align: right;\n",
       "    }\n",
       "</style>\n",
       "<table border=\"1\" class=\"dataframe\">\n",
       "  <thead>\n",
       "    <tr style=\"text-align: right;\">\n",
       "      <th></th>\n",
       "      <th>raceId</th>\n",
       "      <th>driverId</th>\n",
       "      <th>lap</th>\n",
       "      <th>milliseconds_each_lap</th>\n",
       "      <th>pit_milliseconds</th>\n",
       "    </tr>\n",
       "  </thead>\n",
       "  <tbody>\n",
       "    <tr>\n",
       "      <th>33</th>\n",
       "      <td>841</td>\n",
       "      <td>20</td>\n",
       "      <td>34</td>\n",
       "      <td>91871</td>\n",
       "      <td>NaN</td>\n",
       "    </tr>\n",
       "    <tr>\n",
       "      <th>34</th>\n",
       "      <td>841</td>\n",
       "      <td>20</td>\n",
       "      <td>35</td>\n",
       "      <td>92597</td>\n",
       "      <td>NaN</td>\n",
       "    </tr>\n",
       "    <tr>\n",
       "      <th>35</th>\n",
       "      <td>841</td>\n",
       "      <td>20</td>\n",
       "      <td>36</td>\n",
       "      <td>113737</td>\n",
       "      <td>24036.0</td>\n",
       "    </tr>\n",
       "    <tr>\n",
       "      <th>36</th>\n",
       "      <td>841</td>\n",
       "      <td>20</td>\n",
       "      <td>37</td>\n",
       "      <td>99321</td>\n",
       "      <td>NaN</td>\n",
       "    </tr>\n",
       "    <tr>\n",
       "      <th>37</th>\n",
       "      <td>841</td>\n",
       "      <td>20</td>\n",
       "      <td>38</td>\n",
       "      <td>93632</td>\n",
       "      <td>NaN</td>\n",
       "    </tr>\n",
       "  </tbody>\n",
       "</table>\n",
       "</div>"
      ],
      "text/plain": [
       "    raceId  driverId  lap  milliseconds_each_lap  pit_milliseconds\n",
       "33     841        20   34                  91871               NaN\n",
       "34     841        20   35                  92597               NaN\n",
       "35     841        20   36                 113737           24036.0\n",
       "36     841        20   37                  99321               NaN\n",
       "37     841        20   38                  93632               NaN"
      ]
     },
     "execution_count": 12,
     "metadata": {},
     "output_type": "execute_result"
    }
   ],
   "source": [
    "pd_pit_lap.iloc[33:38]"
   ]
  },
  {
   "cell_type": "markdown",
   "id": "e1e752f6-ddd6-45ab-a106-19c5e18bddd2",
   "metadata": {},
   "source": [
    "### (2.4) Filling Nan values"
   ]
  },
  {
   "cell_type": "code",
   "execution_count": 13,
   "id": "716f5c1a-20e2-4f5f-8114-55b9b8568958",
   "metadata": {},
   "outputs": [
    {
     "data": {
      "text/html": [
       "<div>\n",
       "<style scoped>\n",
       "    .dataframe tbody tr th:only-of-type {\n",
       "        vertical-align: middle;\n",
       "    }\n",
       "\n",
       "    .dataframe tbody tr th {\n",
       "        vertical-align: top;\n",
       "    }\n",
       "\n",
       "    .dataframe thead th {\n",
       "        text-align: right;\n",
       "    }\n",
       "</style>\n",
       "<table border=\"1\" class=\"dataframe\">\n",
       "  <thead>\n",
       "    <tr style=\"text-align: right;\">\n",
       "      <th></th>\n",
       "      <th>raceId</th>\n",
       "      <th>driverId</th>\n",
       "      <th>lap</th>\n",
       "      <th>milliseconds_each_lap</th>\n",
       "      <th>pit_milliseconds</th>\n",
       "    </tr>\n",
       "  </thead>\n",
       "  <tbody>\n",
       "    <tr>\n",
       "      <th>33</th>\n",
       "      <td>841</td>\n",
       "      <td>20</td>\n",
       "      <td>34</td>\n",
       "      <td>91871</td>\n",
       "      <td>0.0</td>\n",
       "    </tr>\n",
       "    <tr>\n",
       "      <th>34</th>\n",
       "      <td>841</td>\n",
       "      <td>20</td>\n",
       "      <td>35</td>\n",
       "      <td>92597</td>\n",
       "      <td>0.0</td>\n",
       "    </tr>\n",
       "    <tr>\n",
       "      <th>35</th>\n",
       "      <td>841</td>\n",
       "      <td>20</td>\n",
       "      <td>36</td>\n",
       "      <td>113737</td>\n",
       "      <td>24036.0</td>\n",
       "    </tr>\n",
       "    <tr>\n",
       "      <th>36</th>\n",
       "      <td>841</td>\n",
       "      <td>20</td>\n",
       "      <td>37</td>\n",
       "      <td>99321</td>\n",
       "      <td>0.0</td>\n",
       "    </tr>\n",
       "    <tr>\n",
       "      <th>37</th>\n",
       "      <td>841</td>\n",
       "      <td>20</td>\n",
       "      <td>38</td>\n",
       "      <td>93632</td>\n",
       "      <td>0.0</td>\n",
       "    </tr>\n",
       "  </tbody>\n",
       "</table>\n",
       "</div>"
      ],
      "text/plain": [
       "    raceId  driverId  lap  milliseconds_each_lap  pit_milliseconds\n",
       "33     841        20   34                  91871               0.0\n",
       "34     841        20   35                  92597               0.0\n",
       "35     841        20   36                 113737           24036.0\n",
       "36     841        20   37                  99321               0.0\n",
       "37     841        20   38                  93632               0.0"
      ]
     },
     "execution_count": 13,
     "metadata": {},
     "output_type": "execute_result"
    }
   ],
   "source": [
    "pd_pit_lap.fillna(0, inplace=True)\n",
    "pd_pit_lap.iloc[33:38]"
   ]
  },
  {
   "cell_type": "markdown",
   "id": "5fe0727a-760f-4a0f-872c-55c8b5908d2e",
   "metadata": {},
   "source": [
    "### (2.5) Aggregate datasets - lap_time + pit_stops + races"
   ]
  },
  {
   "cell_type": "code",
   "execution_count": 14,
   "id": "03fea51b-3b62-44e6-9825-76c28ef96a9f",
   "metadata": {},
   "outputs": [
    {
     "name": "stdout",
     "output_type": "stream",
     "text": [
      "(551742, 9)\n"
     ]
    },
    {
     "data": {
      "text/plain": [
       "Index(['raceId', 'driverId', 'lap', 'milliseconds_each_lap',\n",
       "       'pit_milliseconds', 'year', 'event_name', 'event_date', 'event_time'],\n",
       "      dtype='object')"
      ]
     },
     "execution_count": 14,
     "metadata": {},
     "output_type": "execute_result"
    }
   ],
   "source": [
    "pd_pit_lap_races = pd.merge(pd_pit_lap, df_raw_races, how=\"left\", on=['raceId'])\n",
    "print(pd_pit_lap_races.shape)\n",
    "pd_pit_lap_races.columns"
   ]
  },
  {
   "cell_type": "code",
   "execution_count": 15,
   "id": "545f6de1-3d4e-4126-a11f-807fa9a99170",
   "metadata": {},
   "outputs": [
    {
     "data": {
      "text/html": [
       "<div>\n",
       "<style scoped>\n",
       "    .dataframe tbody tr th:only-of-type {\n",
       "        vertical-align: middle;\n",
       "    }\n",
       "\n",
       "    .dataframe tbody tr th {\n",
       "        vertical-align: top;\n",
       "    }\n",
       "\n",
       "    .dataframe thead th {\n",
       "        text-align: right;\n",
       "    }\n",
       "</style>\n",
       "<table border=\"1\" class=\"dataframe\">\n",
       "  <thead>\n",
       "    <tr style=\"text-align: right;\">\n",
       "      <th></th>\n",
       "      <th>raceId</th>\n",
       "      <th>driverId</th>\n",
       "      <th>lap</th>\n",
       "      <th>milliseconds_each_lap</th>\n",
       "      <th>pit_milliseconds</th>\n",
       "      <th>year</th>\n",
       "      <th>event_name</th>\n",
       "      <th>event_date</th>\n",
       "      <th>event_time</th>\n",
       "    </tr>\n",
       "  </thead>\n",
       "  <tbody>\n",
       "    <tr>\n",
       "      <th>33</th>\n",
       "      <td>841</td>\n",
       "      <td>20</td>\n",
       "      <td>34</td>\n",
       "      <td>91871</td>\n",
       "      <td>0.0</td>\n",
       "      <td>2011</td>\n",
       "      <td>Australian Grand Prix</td>\n",
       "      <td>2011-03-27</td>\n",
       "      <td>06:00:00</td>\n",
       "    </tr>\n",
       "    <tr>\n",
       "      <th>34</th>\n",
       "      <td>841</td>\n",
       "      <td>20</td>\n",
       "      <td>35</td>\n",
       "      <td>92597</td>\n",
       "      <td>0.0</td>\n",
       "      <td>2011</td>\n",
       "      <td>Australian Grand Prix</td>\n",
       "      <td>2011-03-27</td>\n",
       "      <td>06:00:00</td>\n",
       "    </tr>\n",
       "    <tr>\n",
       "      <th>35</th>\n",
       "      <td>841</td>\n",
       "      <td>20</td>\n",
       "      <td>36</td>\n",
       "      <td>113737</td>\n",
       "      <td>24036.0</td>\n",
       "      <td>2011</td>\n",
       "      <td>Australian Grand Prix</td>\n",
       "      <td>2011-03-27</td>\n",
       "      <td>06:00:00</td>\n",
       "    </tr>\n",
       "    <tr>\n",
       "      <th>36</th>\n",
       "      <td>841</td>\n",
       "      <td>20</td>\n",
       "      <td>37</td>\n",
       "      <td>99321</td>\n",
       "      <td>0.0</td>\n",
       "      <td>2011</td>\n",
       "      <td>Australian Grand Prix</td>\n",
       "      <td>2011-03-27</td>\n",
       "      <td>06:00:00</td>\n",
       "    </tr>\n",
       "    <tr>\n",
       "      <th>37</th>\n",
       "      <td>841</td>\n",
       "      <td>20</td>\n",
       "      <td>38</td>\n",
       "      <td>93632</td>\n",
       "      <td>0.0</td>\n",
       "      <td>2011</td>\n",
       "      <td>Australian Grand Prix</td>\n",
       "      <td>2011-03-27</td>\n",
       "      <td>06:00:00</td>\n",
       "    </tr>\n",
       "  </tbody>\n",
       "</table>\n",
       "</div>"
      ],
      "text/plain": [
       "    raceId  driverId  lap  milliseconds_each_lap  pit_milliseconds  year  \\\n",
       "33     841        20   34                  91871               0.0  2011   \n",
       "34     841        20   35                  92597               0.0  2011   \n",
       "35     841        20   36                 113737           24036.0  2011   \n",
       "36     841        20   37                  99321               0.0  2011   \n",
       "37     841        20   38                  93632               0.0  2011   \n",
       "\n",
       "               event_name  event_date event_time  \n",
       "33  Australian Grand Prix  2011-03-27   06:00:00  \n",
       "34  Australian Grand Prix  2011-03-27   06:00:00  \n",
       "35  Australian Grand Prix  2011-03-27   06:00:00  \n",
       "36  Australian Grand Prix  2011-03-27   06:00:00  \n",
       "37  Australian Grand Prix  2011-03-27   06:00:00  "
      ]
     },
     "execution_count": 15,
     "metadata": {},
     "output_type": "execute_result"
    }
   ],
   "source": [
    "pd_pit_lap_races.iloc[33:38]"
   ]
  },
  {
   "cell_type": "code",
   "execution_count": 16,
   "id": "17d38d40-6970-40d4-a21b-60c798c36a78",
   "metadata": {},
   "outputs": [
    {
     "data": {
      "text/plain": [
       "raceId                                     841\n",
       "driverId                                    20\n",
       "lap                                         37\n",
       "milliseconds_each_lap                    99321\n",
       "pit_milliseconds                           0.0\n",
       "year                                      2011\n",
       "event_name               Australian Grand Prix\n",
       "event_date                          2011-03-27\n",
       "event_time                            06:00:00\n",
       "Name: 36, dtype: object"
      ]
     },
     "execution_count": 16,
     "metadata": {},
     "output_type": "execute_result"
    }
   ],
   "source": [
    "pd_pit_lap_races.iloc[36]"
   ]
  },
  {
   "cell_type": "markdown",
   "id": "f2e0065f-a3a1-4b27-b822-23063fcfdd89",
   "metadata": {},
   "source": [
    "### (2.6) Aggregate datasets - lap_time + pit_stops + races + results"
   ]
  },
  {
   "cell_type": "code",
   "execution_count": 17,
   "id": "772209c9-edb1-4e2e-9b44-9ba3be466f76",
   "metadata": {},
   "outputs": [
    {
     "name": "stdout",
     "output_type": "stream",
     "text": [
      "(551742, 14)\n"
     ]
    },
    {
     "data": {
      "text/plain": [
       "Index(['raceId', 'driverId', 'lap', 'milliseconds_each_lap',\n",
       "       'pit_milliseconds', 'year', 'event_name', 'event_date', 'event_time',\n",
       "       'resultId', 'results_car_number', 'total_laps',\n",
       "       'total_race_milliseconds', 'event_fastestLapTime'],\n",
       "      dtype='object')"
      ]
     },
     "execution_count": 17,
     "metadata": {},
     "output_type": "execute_result"
    }
   ],
   "source": [
    "pd_full_lap_info = pd.merge(pd_pit_lap_races, df_raw_results, how=\"left\", on=['raceId', 'driverId'])\n",
    "print(pd_full_lap_info.shape)\n",
    "pd_full_lap_info.columns"
   ]
  },
  {
   "cell_type": "code",
   "execution_count": 18,
   "id": "03a538c8-665f-4e27-9ee0-0acd95cc0e80",
   "metadata": {},
   "outputs": [
    {
     "data": {
      "text/plain": [
       "<Axes: ylabel='Frequency'>"
      ]
     },
     "execution_count": 18,
     "metadata": {},
     "output_type": "execute_result"
    },
    {
     "data": {
      "image/png": "[encoded data removed]",
      "text/plain": [
       "<Figure size 640x480 with 1 Axes>"
      ]
     },
     "metadata": {},
     "output_type": "display_data"
    }
   ],
   "source": [
    "pd_full_lap_info['total_laps'].plot.hist(bins=12, alpha=0.5)"
   ]
  },
  {
   "cell_type": "code",
   "execution_count": 19,
   "id": "f28608d8-facb-4673-9853-b94df3158304",
   "metadata": {
    "scrolled": true
   },
   "outputs": [
    {
     "data": {
      "text/plain": [
       "raceId                                       841\n",
       "driverId                                      20\n",
       "lap                                           37\n",
       "milliseconds_each_lap                      99321\n",
       "pit_milliseconds                             0.0\n",
       "year                                        2011\n",
       "event_name                 Australian Grand Prix\n",
       "event_date                            2011-03-27\n",
       "event_time                              06:00:00\n",
       "resultId                                   20779\n",
       "results_car_number                             1\n",
       "total_laps                                    58\n",
       "total_race_milliseconds                  5370259\n",
       "event_fastestLapTime                    1:29.844\n",
       "Name: 36, dtype: object"
      ]
     },
     "execution_count": 19,
     "metadata": {},
     "output_type": "execute_result"
    }
   ],
   "source": [
    "pd_full_lap_info.iloc[36]"
   ]
  },
  {
   "cell_type": "code",
   "execution_count": 20,
   "id": "f0d35ed2-2475-4e9b-9dc4-6aa83da75c3a",
   "metadata": {},
   "outputs": [],
   "source": [
    "pd_full_lap_info.to_csv('../data/02-transformed/transformed-data.csv', index=False)"
   ]
  },
  {
   "cell_type": "markdown",
   "id": "0eb0ecf3-5a2d-4aca-8b01-4c19739db317",
   "metadata": {},
   "source": [
    "### (2.7) Filling missing values"
   ]
  },
  {
   "cell_type": "code",
   "execution_count": 21,
   "id": "ee0d12c7-248c-4ed8-816c-dcc37f26c0cd",
   "metadata": {},
   "outputs": [],
   "source": [
    "pd_full_lap_info['total_race_milliseconds'].loc[(pd_full_lap_info['total_race_milliseconds'] == \"\\\\N\")] = pd_full_lap_info['total_race_milliseconds'].min()\n",
    "pd_full_lap_info['event_fastestLapTime'].loc[(pd_full_lap_info['event_fastestLapTime'] == \"\\\\N\")] = pd_full_lap_info['event_fastestLapTime'].min()"
   ]
  },
  {
   "cell_type": "code",
   "execution_count": 22,
   "id": "307a6e6e-7d1d-463b-9cba-88971ef1fd25",
   "metadata": {},
   "outputs": [],
   "source": [
    "pd_full_lap_info['total_race_milliseconds'] = pd_full_lap_info['total_race_milliseconds'].astype(object)"
   ]
  },
  {
   "cell_type": "code",
   "execution_count": 23,
   "id": "fdfda737-a373-4370-b1b1-37c06d98c9f5",
   "metadata": {},
   "outputs": [
    {
     "data": {
      "text/plain": [
       "raceId                     0\n",
       "driverId                   0\n",
       "lap                        0\n",
       "milliseconds_each_lap      0\n",
       "pit_milliseconds           0\n",
       "year                       0\n",
       "event_name                 0\n",
       "event_date                 0\n",
       "event_time                 0\n",
       "resultId                   0\n",
       "results_car_number         0\n",
       "total_laps                 0\n",
       "total_race_milliseconds    0\n",
       "event_fastestLapTime       0\n",
       "dtype: int64"
      ]
     },
     "execution_count": 23,
     "metadata": {},
     "output_type": "execute_result"
    }
   ],
   "source": [
    "pd_full_lap_info.isna().sum()"
   ]
  },
  {
   "cell_type": "markdown",
   "id": "da528c96-7aea-4c96-b3eb-18d19478fbd9",
   "metadata": {},
   "source": [
    "### (2.8) Extract new features"
   ]
  },
  {
   "cell_type": "code",
   "execution_count": 24,
   "id": "33b16be6-884b-45e9-8015-cd369583b1fd",
   "metadata": {},
   "outputs": [
    {
     "data": {
      "text/plain": [
       "Index(['raceId', 'driverId', 'lap', 'milliseconds_each_lap',\n",
       "       'pit_milliseconds', 'year', 'event_name', 'event_date', 'event_time',\n",
       "       'resultId', 'results_car_number', 'total_laps',\n",
       "       'total_race_milliseconds', 'event_fastestLapTime', 'lap_time_wth_pit'],\n",
       "      dtype='object')"
      ]
     },
     "execution_count": 24,
     "metadata": {},
     "output_type": "execute_result"
    }
   ],
   "source": [
    "pd_full_lap_info['lap_time_wth_pit'] = pd_full_lap_info.apply(lambda row: row.milliseconds_each_lap - row.pit_milliseconds, axis=1)\n",
    "pd_full_lap_info.columns"
   ]
  },
  {
   "cell_type": "code",
   "execution_count": 25,
   "id": "5bf719ff-c15e-4267-a730-a44eea1390c4",
   "metadata": {},
   "outputs": [
    {
     "data": {
      "text/plain": [
       "Index(['raceId', 'driverId', 'lap', 'milliseconds_each_lap',\n",
       "       'pit_milliseconds', 'year', 'event_name', 'event_date', 'event_time',\n",
       "       'resultId', 'results_car_number', 'total_laps',\n",
       "       'total_race_milliseconds', 'event_fastestLapTime', 'lap_time_wth_pit',\n",
       "       'avg_race_lap_time'],\n",
       "      dtype='object')"
      ]
     },
     "execution_count": 25,
     "metadata": {},
     "output_type": "execute_result"
    }
   ],
   "source": [
    "pd_full_lap_info['total_race_milliseconds'] = pd_full_lap_info['total_race_milliseconds'].astype(float)\n",
    "pd_full_lap_info['avg_race_lap_time'] = pd_full_lap_info.apply(lambda row: row.total_race_milliseconds / row.total_laps if row.total_laps != 0 else 0, axis=1)\n",
    "pd_full_lap_info.columns"
   ]
  },
  {
   "cell_type": "code",
   "execution_count": 26,
   "id": "37cb3d96-34ce-41b4-a735-949566dc49a6",
   "metadata": {},
   "outputs": [],
   "source": [
    "def seconder(x):\n",
    "    mins, secs = map(float, x.split(':'))\n",
    "    td = timedelta(minutes=mins, seconds=secs)\n",
    "    return td.total_seconds()"
   ]
  },
  {
   "cell_type": "code",
   "execution_count": 27,
   "id": "79856a64-789d-4052-8b10-d5ad90c5742a",
   "metadata": {},
   "outputs": [],
   "source": [
    "pd_full_lap_info['event_fastestLapTime_seconds'] = pd_full_lap_info['event_fastestLapTime'].apply(seconder)\n",
    "pd_full_lap_info['event_fastestLapTime_seconds'] = pd_full_lap_info['event_fastestLapTime_seconds'].astype(float)"
   ]
  },
  {
   "cell_type": "markdown",
   "id": "31202932-9a2d-4e53-b250-6a6ee21a41ae",
   "metadata": {},
   "source": [
    "### (2.9) Dropping merged but unnecessary features"
   ]
  },
  {
   "cell_type": "code",
   "execution_count": 28,
   "id": "7a99bc0d-ea98-482a-a76c-eaaa965c1543",
   "metadata": {},
   "outputs": [
    {
     "data": {
      "text/plain": [
       "Index(['raceId', 'driverId', 'lap', 'milliseconds_each_lap',\n",
       "       'pit_milliseconds', 'year', 'event_name', 'event_date', 'total_laps',\n",
       "       'total_race_milliseconds', 'event_fastestLapTime', 'lap_time_wth_pit',\n",
       "       'avg_race_lap_time', 'event_fastestLapTime_seconds'],\n",
       "      dtype='object')"
      ]
     },
     "execution_count": 28,
     "metadata": {},
     "output_type": "execute_result"
    }
   ],
   "source": [
    "pd_full_lap_info.drop(columns=['results_car_number', 'resultId', 'event_time'], inplace=True)\n",
    "pd_full_lap_info.columns"
   ]
  },
  {
   "cell_type": "code",
   "execution_count": 29,
   "id": "97303fe7-0081-430e-8604-46842de17e4a",
   "metadata": {},
   "outputs": [
    {
     "data": {
      "text/plain": [
       "Index(['driverId', 'lap', 'milliseconds_each_lap', 'event_name',\n",
       "       'lap_time_wth_pit', 'avg_race_lap_time',\n",
       "       'event_fastestLapTime_seconds'],\n",
       "      dtype='object')"
      ]
     },
     "execution_count": 29,
     "metadata": {},
     "output_type": "execute_result"
    }
   ],
   "source": [
    "pd_full_lap_info.drop(columns=['raceId', 'year', 'event_date', 'pit_milliseconds', 'event_fastestLapTime', 'total_laps', 'total_race_milliseconds'], inplace=True)\n",
    "pd_full_lap_info.columns"
   ]
  },
  {
   "cell_type": "code",
   "execution_count": 30,
   "id": "34ba4035-d06c-4718-afd8-d2e43c143744",
   "metadata": {},
   "outputs": [],
   "source": [
    "pd_full_lap_info.dropna(inplace=True)"
   ]
  },
  {
   "cell_type": "markdown",
   "id": "4cd6b434-8246-431d-befa-788d0c25bc1b",
   "metadata": {},
   "source": [
    "# Flaw (here): the groupby() method is used here"
   ]
  },
  {
   "cell_type": "code",
   "execution_count": 31,
   "id": "c2d5ef09-07ca-4237-94d5-d9f50b14dc9d",
   "metadata": {},
   "outputs": [
    {
     "data": {
      "text/html": [
       "<div>\n",
       "<style scoped>\n",
       "    .dataframe tbody tr th:only-of-type {\n",
       "        vertical-align: middle;\n",
       "    }\n",
       "\n",
       "    .dataframe tbody tr th {\n",
       "        vertical-align: top;\n",
       "    }\n",
       "\n",
       "    .dataframe thead th {\n",
       "        text-align: right;\n",
       "    }\n",
       "</style>\n",
       "<table border=\"1\" class=\"dataframe\">\n",
       "  <thead>\n",
       "    <tr style=\"text-align: right;\">\n",
       "      <th></th>\n",
       "      <th></th>\n",
       "      <th>lap</th>\n",
       "      <th>milliseconds_each_lap</th>\n",
       "      <th>lap_time_wth_pit</th>\n",
       "      <th>avg_race_lap_time</th>\n",
       "      <th>event_fastestLapTime_seconds</th>\n",
       "    </tr>\n",
       "    <tr>\n",
       "      <th>driverId</th>\n",
       "      <th>event_name</th>\n",
       "      <th></th>\n",
       "      <th></th>\n",
       "      <th></th>\n",
       "      <th></th>\n",
       "      <th></th>\n",
       "    </tr>\n",
       "  </thead>\n",
       "  <tbody>\n",
       "    <tr>\n",
       "      <th rowspan=\"5\" valign=\"top\">1</th>\n",
       "      <th>70th Anniversary Grand Prix</th>\n",
       "      <td>[1, 2, 3, 4, 5, 6, 7, 8, 9, 10, 11, 12, 13, 14...</td>\n",
       "      <td>[93847, 91440, 91448, 91859, 92698, 92401, 923...</td>\n",
       "      <td>[93847.0, 91440.0, 91448.0, 91859.0, 92698.0, ...</td>\n",
       "      <td>[92179.21153846153, 92179.21153846153, 92179.2...</td>\n",
       "      <td>[88.451, 88.451, 88.451, 88.451, 88.451, 88.45...</td>\n",
       "    </tr>\n",
       "    <tr>\n",
       "      <th>Abu Dhabi Grand Prix</th>\n",
       "      <td>[1, 2, 3, 4, 5, 6, 7, 8, 9, 10, 11, 12, 13, 14...</td>\n",
       "      <td>[110984, 107726, 107134, 106964, 106549, 10651...</td>\n",
       "      <td>[110984.0, 107726.0, 107134.0, 106964.0, 10654...</td>\n",
       "      <td>[106034.29090909091, 106034.29090909091, 10603...</td>\n",
       "      <td>[103.461, 103.461, 103.461, 103.461, 103.461, ...</td>\n",
       "    </tr>\n",
       "    <tr>\n",
       "      <th>Australian Grand Prix</th>\n",
       "      <td>[1, 2, 3, 4, 5, 6, 7, 8, 9, 10, 11, 12, 13, 14...</td>\n",
       "      <td>[100573, 93774, 92900, 92582, 92471, 92434, 92...</td>\n",
       "      <td>[100573.0, 93774.0, 92900.0, 92582.0, 92471.0,...</td>\n",
       "      <td>[92975.10344827586, 92975.10344827586, 92975.1...</td>\n",
       "      <td>[90.314, 90.314, 90.314, 90.314, 90.314, 90.31...</td>\n",
       "    </tr>\n",
       "    <tr>\n",
       "      <th>Austrian Grand Prix</th>\n",
       "      <td>[1, 2, 3, 4, 5, 6, 7, 8, 9, 10, 11, 12, 13, 14...</td>\n",
       "      <td>[79258, 74138, 73902, 73784, 74225, 74525, 744...</td>\n",
       "      <td>[79258.0, 74138.0, 73902.0, 73784.0, 74225.0, ...</td>\n",
       "      <td>[74322.64788732394, 74322.64788732394, 74322.6...</td>\n",
       "      <td>[72.217, 72.217, 72.217, 72.217, 72.217, 72.21...</td>\n",
       "    </tr>\n",
       "    <tr>\n",
       "      <th>Azerbaijan Grand Prix</th>\n",
       "      <td>[1, 2, 3, 4, 5, 6, 7, 8, 9, 10, 11, 12, 13, 14...</td>\n",
       "      <td>[112049, 108039, 107780, 106942, 106381, 10686...</td>\n",
       "      <td>[112049.0, 108039.0, 107780.0, 106942.0, 10638...</td>\n",
       "      <td>[145916.88235294117, 145916.88235294117, 14591...</td>\n",
       "      <td>[103.469, 103.469, 103.469, 103.469, 103.469, ...</td>\n",
       "    </tr>\n",
       "  </tbody>\n",
       "</table>\n",
       "</div>"
      ],
      "text/plain": [
       "                                                                                    lap  \\\n",
       "driverId event_name                                                                       \n",
       "1        70th Anniversary Grand Prix  [1, 2, 3, 4, 5, 6, 7, 8, 9, 10, 11, 12, 13, 14...   \n",
       "         Abu Dhabi Grand Prix         [1, 2, 3, 4, 5, 6, 7, 8, 9, 10, 11, 12, 13, 14...   \n",
       "         Australian Grand Prix        [1, 2, 3, 4, 5, 6, 7, 8, 9, 10, 11, 12, 13, 14...   \n",
       "         Austrian Grand Prix          [1, 2, 3, 4, 5, 6, 7, 8, 9, 10, 11, 12, 13, 14...   \n",
       "         Azerbaijan Grand Prix        [1, 2, 3, 4, 5, 6, 7, 8, 9, 10, 11, 12, 13, 14...   \n",
       "\n",
       "                                                                  milliseconds_each_lap  \\\n",
       "driverId event_name                                                                       \n",
       "1        70th Anniversary Grand Prix  [93847, 91440, 91448, 91859, 92698, 92401, 923...   \n",
       "         Abu Dhabi Grand Prix         [110984, 107726, 107134, 106964, 106549, 10651...   \n",
       "         Australian Grand Prix        [100573, 93774, 92900, 92582, 92471, 92434, 92...   \n",
       "         Austrian Grand Prix          [79258, 74138, 73902, 73784, 74225, 74525, 744...   \n",
       "         Azerbaijan Grand Prix        [112049, 108039, 107780, 106942, 106381, 10686...   \n",
       "\n",
       "                                                                       lap_time_wth_pit  \\\n",
       "driverId event_name                                                                       \n",
       "1        70th Anniversary Grand Prix  [93847.0, 91440.0, 91448.0, 91859.0, 92698.0, ...   \n",
       "         Abu Dhabi Grand Prix         [110984.0, 107726.0, 107134.0, 106964.0, 10654...   \n",
       "         Australian Grand Prix        [100573.0, 93774.0, 92900.0, 92582.0, 92471.0,...   \n",
       "         Austrian Grand Prix          [79258.0, 74138.0, 73902.0, 73784.0, 74225.0, ...   \n",
       "         Azerbaijan Grand Prix        [112049.0, 108039.0, 107780.0, 106942.0, 10638...   \n",
       "\n",
       "                                                                      avg_race_lap_time  \\\n",
       "driverId event_name                                                                       \n",
       "1        70th Anniversary Grand Prix  [92179.21153846153, 92179.21153846153, 92179.2...   \n",
       "         Abu Dhabi Grand Prix         [106034.29090909091, 106034.29090909091, 10603...   \n",
       "         Australian Grand Prix        [92975.10344827586, 92975.10344827586, 92975.1...   \n",
       "         Austrian Grand Prix          [74322.64788732394, 74322.64788732394, 74322.6...   \n",
       "         Azerbaijan Grand Prix        [145916.88235294117, 145916.88235294117, 14591...   \n",
       "\n",
       "                                                           event_fastestLapTime_seconds  \n",
       "driverId event_name                                                                      \n",
       "1        70th Anniversary Grand Prix  [88.451, 88.451, 88.451, 88.451, 88.451, 88.45...  \n",
       "         Abu Dhabi Grand Prix         [103.461, 103.461, 103.461, 103.461, 103.461, ...  \n",
       "         Australian Grand Prix        [90.314, 90.314, 90.314, 90.314, 90.314, 90.31...  \n",
       "         Austrian Grand Prix          [72.217, 72.217, 72.217, 72.217, 72.217, 72.21...  \n",
       "         Azerbaijan Grand Prix        [103.469, 103.469, 103.469, 103.469, 103.469, ...  "
      ]
     },
     "execution_count": 31,
     "metadata": {},
     "output_type": "execute_result"
    }
   ],
   "source": [
    "pd_grouped_data = pd_full_lap_info.groupby(['driverId', 'event_name']).agg(list)\n",
    "pd_grouped_data.head()"
   ]
  },
  {
   "cell_type": "code",
   "execution_count": 32,
   "id": "c0655e37-08b2-4bac-be0f-8d40e0de42cd",
   "metadata": {},
   "outputs": [],
   "source": [
    "pd_full_lap_info['avg_race_lap_time'] = pd_full_lap_info['avg_race_lap_time'].astype(float)\n",
    "pd_full_lap_info['lap'] = pd_full_lap_info['lap'].astype(float)\n",
    "pd_full_lap_info['milliseconds_each_lap'] = pd_full_lap_info['milliseconds_each_lap'].astype(float)\n",
    "pd_full_lap_info['lap_time_wth_pit'] = pd_full_lap_info['milliseconds_each_lap'].astype(float)"
   ]
  },
  {
   "cell_type": "code",
   "execution_count": 33,
   "id": "065cc429-965a-49ac-b8ce-5b44367360d2",
   "metadata": {},
   "outputs": [
    {
     "name": "stdout",
     "output_type": "stream",
     "text": [
      "(551742, 7)\n"
     ]
    },
    {
     "data": {
      "text/plain": [
       "Index(['driverId', 'lap', 'milliseconds_each_lap', 'event_name',\n",
       "       'lap_time_wth_pit', 'avg_race_lap_time',\n",
       "       'event_fastestLapTime_seconds'],\n",
       "      dtype='object')"
      ]
     },
     "execution_count": 33,
     "metadata": {},
     "output_type": "execute_result"
    }
   ],
   "source": [
    "print(pd_full_lap_info.shape)\n",
    "pd_full_lap_info.columns"
   ]
  },
  {
   "cell_type": "code",
   "execution_count": 34,
   "id": "7fea9c74-a130-4fb3-8068-d19bd9ac3560",
   "metadata": {},
   "outputs": [],
   "source": [
    "pd_full_lap_info.to_csv('../data/03-processed/processed-data.csv', index=False)"
   ]
  },
  {
   "cell_type": "markdown",
   "id": "2c4652d5-93e3-4323-9609-0057e940ef47",
   "metadata": {},
   "source": [
    "# Summary"
   ]
  },
  {
   "cell_type": "markdown",
   "id": "9d1415fe-d351-4ea7-a0d4-91ee04046212",
   "metadata": {},
   "source": [
    "There are a lot of stasticals, feature engineering and ML methods that can be applied during the process of data pre-processing. The above steps just explored a few.\n",
    "\n",
    "Generally, other methods or techniques should be also considered here. <br><br>\n",
    "(1) Dimensionality reduction: reduce models to a lower-dimensional space\n",
    "* Principal Component Analysis (PCA)\n",
    "* Singular Value Decomposition (SVD)\n",
    "* Factor Analysis (FA)\n",
    "* Multidimensional Scaling (MDS)\n",
    "* T-distributed Stochastic Neighbor Embedding (TSNE)\n",
    "* etc.\n",
    "\n",
    "(2) Outlier Detection Methods\n",
    "* OneClassSVM\n",
    "* IsolationForest\n",
    "* LocalOutlierFactor\n",
    "* EllipticEnvelope\n",
    "\n",
    "(3) Data Cleaning <br>\n",
    "(4) Data Integration <br>\n",
    "(5) Data Transformation <br>\n",
    "(6) Data Normalization <br>\n",
    "(7) Feature Selection <br>\n",
    "(8) Feature Extraction <br>"
   ]
  },
  {
   "cell_type": "markdown",
   "id": "c2e87885-91e2-4a8c-9b65-be672d0bb5c6",
   "metadata": {},
   "source": [
    "# Flaw: \n",
    "\n",
    "During the generation of time series dataset, originally I would like to use pandas dataframe groupby() to group the features \"driverid\" and \"event_name\" to become a tuple to act as the time series data.\n",
    "\n",
    "However, the grouped data will be multi-dimensional, and it needs more time and efforts to fit them into the Scikit-Learn forecasting algorithms, due to the format limitation. Thereby, I abandoned this way to process the data, and so, the current one is not a __good__ method. \n",
    "\n",
    "Therefore, the current time series data will only be used to show the functionality of machine learning pipeline, and _can not reflect the accuracy of time-series forecasting_. "
   ]
  }
 ],
 "metadata": {
  "kernelspec": {
   "display_name": "Python 3 (ipykernel)",
   "language": "python",
   "name": "python3"
  },
  "language_info": {
   "codemirror_mode": {
    "name": "ipython",
    "version": 3
   },
   "file_extension": ".py",
   "mimetype": "text/x-python",
   "name": "python",
   "nbconvert_exporter": "python",
   "pygments_lexer": "ipython3",
   "version": "3.11.7"
  }
 },
 "nbformat": 4,
 "nbformat_minor": 5
}
