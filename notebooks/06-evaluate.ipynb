{
 "cells": [
  {
   "cell_type": "code",
   "execution_count": 14,
   "id": "fa491d06-4bc4-4648-8277-b396fe436c93",
   "metadata": {},
   "outputs": [],
   "source": [
    "# import libraries\n",
    "\n",
    "import warnings\n",
    "warnings.simplefilter(action='ignore', category=FutureWarning)\n",
    "\n",
    "import pandas as pd\n",
    "import numpy as np\n",
    "import sklearn as sk\n",
    "from sklearn.metrics import root_mean_squared_error\n",
    "from sklearn.metrics import mean_absolute_error\n",
    "from sklearn.metrics import mean_squared_error\n",
    "import pickle\n",
    "from ipywidgets import widgets, interact\n",
    "pd.options.mode.chained_assignment = None"
   ]
  },
  {
   "cell_type": "code",
   "execution_count": 15,
   "id": "41adc6ea-45d5-4d22-a5f3-7c5f4f98cdb5",
   "metadata": {},
   "outputs": [
    {
     "name": "stdout",
     "output_type": "stream",
     "text": [
      "(182075, 1)\n",
      "(182075, 1)\n"
     ]
    }
   ],
   "source": [
    "df_test_labels = pd.read_csv('../data/03-processed/test_labels.csv')\n",
    "df_pred_labels = pd.read_csv('../data/05-inferences/pred_data.csv')\n",
    "print(df_test_labels.shape)\n",
    "print(df_pred_labels.shape)"
   ]
  },
  {
   "cell_type": "code",
   "execution_count": 16,
   "id": "ce1aac44-5d61-4487-99b6-1887c27e0d40",
   "metadata": {},
   "outputs": [],
   "source": [
    "y_true = df_test_labels.values\n",
    "y_pred = df_pred_labels.values"
   ]
  },
  {
   "cell_type": "markdown",
   "id": "cb5d91cf-fb67-40dd-b8c3-82bf39ae9b78",
   "metadata": {},
   "source": [
    "### (1) Root mean squared error "
   ]
  },
  {
   "cell_type": "code",
   "execution_count": 17,
   "id": "a200bd7b-5bee-4216-a79e-215b0191a9ea",
   "metadata": {},
   "outputs": [
    {
     "data": {
      "text/plain": [
       "373.8862394328222"
      ]
     },
     "execution_count": 17,
     "metadata": {},
     "output_type": "execute_result"
    }
   ],
   "source": [
    "rmse_error = root_mean_squared_error(y_true, y_pred)\n",
    "rmse_error"
   ]
  },
  {
   "cell_type": "markdown",
   "id": "9e1576d6-f775-44ff-8ba0-334b169fdd34",
   "metadata": {},
   "source": [
    "### (2) Mean squared error"
   ]
  },
  {
   "cell_type": "code",
   "execution_count": 23,
   "id": "98773724-70b0-4bee-b9d9-687ab9b428b9",
   "metadata": {},
   "outputs": [
    {
     "name": "stdout",
     "output_type": "stream",
     "text": [
      "Mean squared error: 139790.92\n"
     ]
    },
    {
     "name": "stderr",
     "output_type": "stream",
     "text": [
      "C:\\Users\\renyl\\AppData\\Local\\Temp\\ipykernel_14344\\2633374088.py:2: DeprecationWarning: Conversion of an array with ndim > 0 to a scalar is deprecated, and will error in future. Ensure you extract a single element from your array before performing this operation. (Deprecated NumPy 1.25.)\n",
      "  print(\"Mean squared error: %.2f\" % mean_squared_error(y_true, y_pred, multioutput='raw_values'))\n"
     ]
    }
   ],
   "source": [
    "mean_squared_error(y_true, y_pred, multioutput='raw_values')\n",
    "print(\"Mean squared error: %.2f\" % mean_squared_error(y_true, y_pred, multioutput='raw_values'))"
   ]
  },
  {
   "cell_type": "markdown",
   "id": "df0e2348-afb3-4488-b71d-6d14688b2331",
   "metadata": {},
   "source": [
    "### (3) Mean absolute error"
   ]
  },
  {
   "cell_type": "code",
   "execution_count": 24,
   "id": "cac7a6f1-9644-4cc4-b1f9-9bf2c2f8c17c",
   "metadata": {},
   "outputs": [
    {
     "name": "stdout",
     "output_type": "stream",
     "text": [
      "Mean squared error: 4.22\n"
     ]
    },
    {
     "name": "stderr",
     "output_type": "stream",
     "text": [
      "C:\\Users\\renyl\\AppData\\Local\\Temp\\ipykernel_14344\\232618875.py:2: DeprecationWarning: Conversion of an array with ndim > 0 to a scalar is deprecated, and will error in future. Ensure you extract a single element from your array before performing this operation. (Deprecated NumPy 1.25.)\n",
      "  print(\"Mean squared error: %.2f\" % mean_absolute_error(y_true, y_pred, multioutput='raw_values'))\n"
     ]
    }
   ],
   "source": [
    "mean_absolute_error(y_true, y_pred, multioutput='raw_values')\n",
    "print(\"Mean squared error: %.2f\" % mean_absolute_error(y_true, y_pred, multioutput='raw_values'))"
   ]
  },
  {
   "cell_type": "code",
   "execution_count": null,
   "id": "1c626eea-1e0d-4887-85c2-461f823253a7",
   "metadata": {},
   "outputs": [],
   "source": []
  }
 ],
 "metadata": {
  "kernelspec": {
   "display_name": "Python 3 (ipykernel)",
   "language": "python",
   "name": "python3"
  },
  "language_info": {
   "codemirror_mode": {
    "name": "ipython",
    "version": 3
   },
   "file_extension": ".py",
   "mimetype": "text/x-python",
   "name": "python",
   "nbconvert_exporter": "python",
   "pygments_lexer": "ipython3",
   "version": "3.11.7"
  }
 },
 "nbformat": 4,
 "nbformat_minor": 5
}
