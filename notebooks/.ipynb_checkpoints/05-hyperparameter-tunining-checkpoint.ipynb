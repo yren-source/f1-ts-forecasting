{
 "cells": [
  {
   "cell_type": "markdown",
   "id": "836183a8-f28f-4d81-8246-86f2f5fbde70",
   "metadata": {},
   "source": [
    "# Hyperparameter tuning - find the best/optimal model"
   ]
  },
  {
   "cell_type": "markdown",
   "id": "808faf2c-4b3b-453c-a032-44190a5abcce",
   "metadata": {},
   "source": [
    "Here, I would like to use [GridSearchCV](https://scikit-learn.org/stable/modules/generated/sklearn.model_selection.GridSearchCV.html#sklearn.model_selection.GridSearchCV) to tune the hyperparameters.\n",
    "\n",
    "Will provide later."
   ]
  }
 ],
 "metadata": {
  "kernelspec": {
   "display_name": "Python 3 (ipykernel)",
   "language": "python",
   "name": "python3"
  },
  "language_info": {
   "codemirror_mode": {
    "name": "ipython",
    "version": 3
   },
   "file_extension": ".py",
   "mimetype": "text/x-python",
   "name": "python",
   "nbconvert_exporter": "python",
   "pygments_lexer": "ipython3",
   "version": "3.11.7"
  }
 },
 "nbformat": 4,
 "nbformat_minor": 5
}
