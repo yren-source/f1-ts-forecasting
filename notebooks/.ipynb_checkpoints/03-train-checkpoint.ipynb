{
 "cells": [
  {
   "cell_type": "markdown",
   "id": "47b2fe40-5319-452a-bb7e-6b35221f7d63",
   "metadata": {},
   "source": [
    "# Time-series forecasting - Lap records in Formula 1"
   ]
  },
  {
   "cell_type": "markdown",
   "id": "9053fc24-08f3-4fee-8425-74ff92789143",
   "metadata": {},
   "source": [
    "## Overview\n",
    "\n",
    "Time series analysis and forecasting are used to predict future trends, behaviors, and behaviours based on historical data.\n",
    "\n",
    "A time series is a sequence of data points collected, recorded, or measured at successive, evenly-spaced time intervals. In this way, e\n",
    "Each data point represents observations or measurements taken over time, such as stock prices, temperature readings, or sales figurese."
   ]
  },
  {
   "cell_type": "markdown",
   "id": "7239dcc0-6283-43b7-ab6b-8e21446cd2d5",
   "metadata": {},
   "source": [
    "## Taxonomy\n",
    "\n",
    "<img src=\"../pictures/forecasting-taxonomy.png\" width=\"800\">"
   ]
  },
  {
   "cell_type": "code",
   "execution_count": 1,
   "id": "70c0dc1b-fd73-4554-a3c4-0265ec1dc2b4",
   "metadata": {},
   "outputs": [],
   "source": [
    "# import libraries\n",
    "\n",
    "import warnings\n",
    "warnings.simplefilter(action='ignore', category=FutureWarning)\n",
    "\n",
    "import pandas as pd\n",
    "import numpy as np\n",
    "import sklearn as sk\n",
    "from sklearn.model_selection import train_test_split\n",
    "from sklearn.ensemble import RandomForestRegressor\n",
    "import pickle\n",
    "from ipywidgets import widgets, interact\n",
    "pd.options.mode.chained_assignment = None"
   ]
  },
  {
   "cell_type": "code",
   "execution_count": 2,
   "id": "ae3082ad-63cb-47db-83e3-38557bd40210",
   "metadata": {},
   "outputs": [
    {
     "name": "stdout",
     "output_type": "stream",
     "text": [
      "(551742, 7)\n"
     ]
    },
    {
     "data": {
      "text/plain": [
       "Index(['driverId', 'lap', 'milliseconds_each_lap', 'event_name',\n",
       "       'lap_time_wth_pit', 'avg_race_lap_time',\n",
       "       'event_fastestLapTime_seconds'],\n",
       "      dtype='object')"
      ]
     },
     "execution_count": 2,
     "metadata": {},
     "output_type": "execute_result"
    }
   ],
   "source": [
    "pd_full_lap_info = pd.read_csv('../data/03-processed/processed-data.csv')\n",
    "print(pd_full_lap_info.shape)\n",
    "pd_full_lap_info.columns"
   ]
  },
  {
   "cell_type": "code",
   "execution_count": 3,
   "id": "8f9675f8-79f1-4378-a284-9cd267434a22",
   "metadata": {},
   "outputs": [],
   "source": [
    "training_data = pd_full_lap_info[['lap', 'lap_time_wth_pit', 'avg_race_lap_time', 'event_fastestLapTime_seconds']].values\n",
    "ground_truth = pd_full_lap_info['milliseconds_each_lap'].values\n",
    "X_train, X_test, y_train, y_test = train_test_split(training_data, ground_truth, test_size=0.33)"
   ]
  },
  {
   "cell_type": "code",
   "execution_count": 4,
   "id": "06ad4219-8721-4664-8acf-32b0b842c092",
   "metadata": {},
   "outputs": [],
   "source": [
    "df_test_features = pd.DataFrame(X_test)\n",
    "df_test_labels = pd.DataFrame(y_test)\n",
    "df_test_features.to_csv('../data/03-processed/test_data.csv', index=False)\n",
    "df_test_labels.to_csv('../data/03-processed/test_labels.csv', index=False)"
   ]
  },
  {
   "cell_type": "code",
   "execution_count": 5,
   "id": "574be514-fe55-4976-a25e-6f402642b1cd",
   "metadata": {},
   "outputs": [
    {
     "data": {
      "text/plain": [
       "(182075, 2)"
      ]
     },
     "execution_count": 5,
     "metadata": {},
     "output_type": "execute_result"
    }
   ],
   "source": [
    "lap_identifier = pd_full_lap_info[['driverId', 'event_name']].values[:X_test.shape[0]]\n",
    "lap_identifier.shape"
   ]
  },
  {
   "cell_type": "code",
   "execution_count": 6,
   "id": "9fb65553-843f-4ea2-bcfa-4fed11fdd180",
   "metadata": {},
   "outputs": [
    {
     "name": "stdout",
     "output_type": "stream",
     "text": [
      "(369667, 4)\n",
      "(369667,)\n"
     ]
    }
   ],
   "source": [
    "print(X_train.shape)\n",
    "print(y_train.shape)"
   ]
  },
  {
   "cell_type": "code",
   "execution_count": 7,
   "id": "ab17b890-9905-4b30-b801-83da269d1967",
   "metadata": {},
   "outputs": [
    {
     "name": "stdout",
     "output_type": "stream",
     "text": [
      "[[3.50000000e+01 1.02456000e+05 1.83651091e+05 1.00481000e+02]]\n",
      "[102456.]\n"
     ]
    }
   ],
   "source": [
    "print(X_train[:1])\n",
    "print(y_train[:1])"
   ]
  },
  {
   "cell_type": "code",
   "execution_count": null,
   "id": "6de00a50-dc32-4f4b-8270-40f520bc048e",
   "metadata": {},
   "outputs": [],
   "source": [
    "# rf_regressor = RandomForestRegressor(n_estimators=50, max_depth=3, max_features=\"sqrt\", criterion=\"absolute_error\", warm_start=True)\n",
    "rf_regressor = RandomForestRegressor(n_estimators=50, warm_start=True)\n",
    "rf_regressor.fit(X_train, y_train)"
   ]
  },
  {
   "cell_type": "code",
   "execution_count": null,
   "id": "ce1b66ee-7413-43f5-826b-fd10c5cecd8e",
   "metadata": {},
   "outputs": [],
   "source": [
    "with open('../data/04-trained-models/rf-trained-model.pkl', 'wb') as f:\n",
    "    pickle.dump(rf_regressor, f)"
   ]
  }
 ],
 "metadata": {
  "kernelspec": {
   "display_name": "Python 3 (ipykernel)",
   "language": "python",
   "name": "python3"
  },
  "language_info": {
   "codemirror_mode": {
    "name": "ipython",
    "version": 3
   },
   "file_extension": ".py",
   "mimetype": "text/x-python",
   "name": "python",
   "nbconvert_exporter": "python",
   "pygments_lexer": "ipython3",
   "version": "3.11.7"
  }
 },
 "nbformat": 4,
 "nbformat_minor": 5
}
