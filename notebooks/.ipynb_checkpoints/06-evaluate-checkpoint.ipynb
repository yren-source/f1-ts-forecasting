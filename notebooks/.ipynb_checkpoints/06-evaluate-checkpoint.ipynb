{
 "cells": [
  {
   "cell_type": "markdown",
   "id": "092822a5-2232-4726-b60b-1edb31fb701c",
   "metadata": {},
   "source": [
    "# Time-series forecasting - Evaluation"
   ]
  },
  {
   "cell_type": "markdown",
   "id": "67627224-423b-40c4-a31c-588c90d913da",
   "metadata": {},
   "source": [
    "## Overview\n",
    "\n",
    "The accuracy of time series forecasting models usually follows the principle of evaluating Machine Learning regressors' predictions. Thus, \n",
    "\n",
    "Two steps are mainly taken to evaluate forecasting model accuracy:\n",
    "(1) Split data into training and test sets: Before evaluating the accuracy of a time series forecasting model, it is essential to split the data into training and test sets. The training set is used to train the model, while the test set is used to evaluate its accuracy.\n",
    "(2) Choose evaluation metrics: There are several metrics that can be used to evaluate the accuracy of time series forecasting models. We need to decide which ones are proper for evaluating the model in our use case.\n",
    "\n",
    "Typical metrics are as follows:\n",
    "\n",
    "* Mean Absolute Error (MAE): MAE measures the average absolute difference between the actual values and predicted values.\n",
    "* Mean Squared Error (MSE): MSE measures the average squared difference between the actual values and predicted values\n",
    "* Root Mean Squared Error (RMSE): RMSE is the square root of the MSE and is a more interpretable metric\n",
    "* Mean Absolute Percentage Error (MAPE): MAPE measures the average percentage difference between the actual values and predicted values\n",
    "* Symmetric Mean Absolute Percentage Error (SMAPE): SMAPE is similar to MAPE, but it takes into account the magnitude of the actual values\n",
    "\n",
    "However, the metrics are not just limited as above. There are more metrics but it is necessary to choose the appropriate one. "
   ]
  },
  {
   "cell_type": "code",
   "execution_count": 1,
   "id": "b0df62ce-f6de-4953-b41d-82abc5d356e9",
   "metadata": {},
   "outputs": [],
   "source": [
    "# import libraries\n",
    "\n",
    "import warnings\n",
    "warnings.simplefilter(action='ignore', category=FutureWarning)\n",
    "warnings.filterwarnings(\"ignore\", category=DeprecationWarning)\n",
    "\n",
    "import pandas as pd\n",
    "pd.options.mode.chained_assignment = None\n",
    "import numpy as np\n",
    "from sklearn.metrics import root_mean_squared_error\n",
    "from sklearn.metrics import mean_absolute_error\n",
    "from sklearn.metrics import mean_squared_error\n",
    "from ipywidgets import widgets, interact"
   ]
  },
  {
   "cell_type": "markdown",
   "id": "10f45150-5f49-4dc8-bc79-27d30f5e4500",
   "metadata": {},
   "source": [
    "## Here, three types of metrics are used to evaluate, as follows:\n",
    "\n",
    "* Root mean squared error\n",
    "* Mean squared error\n",
    "* Mean absolute error"
   ]
  },
  {
   "cell_type": "code",
   "execution_count": 2,
   "id": "41adc6ea-45d5-4d22-a5f3-7c5f4f98cdb5",
   "metadata": {},
   "outputs": [
    {
     "name": "stdout",
     "output_type": "stream",
     "text": [
      "(182075, 1)\n",
      "(182075, 1)\n"
     ]
    }
   ],
   "source": [
    "df_test_labels = pd.read_csv('../data/04-train-test-data/test_labels.csv')\n",
    "df_pred_labels = pd.read_csv('../data/06-inferences/pred_data.csv')\n",
    "print(df_test_labels.shape)\n",
    "print(df_pred_labels.shape)"
   ]
  },
  {
   "cell_type": "code",
   "execution_count": 3,
   "id": "ce1aac44-5d61-4487-99b6-1887c27e0d40",
   "metadata": {},
   "outputs": [],
   "source": [
    "y_true = df_test_labels.values\n",
    "y_pred = df_pred_labels.values"
   ]
  },
  {
   "cell_type": "markdown",
   "id": "cb5d91cf-fb67-40dd-b8c3-82bf39ae9b78",
   "metadata": {},
   "source": [
    "### (1) Root mean squared error "
   ]
  },
  {
   "cell_type": "code",
   "execution_count": 4,
   "id": "a200bd7b-5bee-4216-a79e-215b0191a9ea",
   "metadata": {},
   "outputs": [
    {
     "name": "stdout",
     "output_type": "stream",
     "text": [
      "Root mean squared error: 545.00\n"
     ]
    }
   ],
   "source": [
    "rmse_error = root_mean_squared_error(y_true, y_pred)\n",
    "print(\"Root mean squared error: %.2f\" % rmse_error)"
   ]
  },
  {
   "cell_type": "markdown",
   "id": "9e1576d6-f775-44ff-8ba0-334b169fdd34",
   "metadata": {},
   "source": [
    "### (2) Mean squared error"
   ]
  },
  {
   "cell_type": "code",
   "execution_count": 5,
   "id": "98773724-70b0-4bee-b9d9-687ab9b428b9",
   "metadata": {},
   "outputs": [
    {
     "name": "stdout",
     "output_type": "stream",
     "text": [
      "Mean squared error: 297028.79\n"
     ]
    }
   ],
   "source": [
    "mean_squared_error(y_true, y_pred, multioutput='raw_values')\n",
    "print(\"Mean squared error: %.2f\" % mean_squared_error(y_true, y_pred, multioutput='raw_values'))"
   ]
  },
  {
   "cell_type": "markdown",
   "id": "df0e2348-afb3-4488-b71d-6d14688b2331",
   "metadata": {},
   "source": [
    "### (3) Mean absolute error"
   ]
  },
  {
   "cell_type": "code",
   "execution_count": 6,
   "id": "cac7a6f1-9644-4cc4-b1f9-9bf2c2f8c17c",
   "metadata": {},
   "outputs": [
    {
     "name": "stdout",
     "output_type": "stream",
     "text": [
      "Mean squared error: 5.33\n"
     ]
    }
   ],
   "source": [
    "mean_absolute_error(y_true, y_pred, multioutput='raw_values')\n",
    "print(\"Mean squared error: %.2f\" % mean_absolute_error(y_true, y_pred, multioutput='raw_values'))"
   ]
  },
  {
   "cell_type": "markdown",
   "id": "b449eafb-6219-49e2-a032-7a1a4e279f17",
   "metadata": {},
   "source": [
    "# Summary\n",
    "\n",
    "It is recommended to use multiple metrics to evaluate the forecasting results from various perspectives. This is why multiple metrics are exercised here, so that we can combine these metrics to generate an overall score for the final evaluation."
   ]
  }
 ],
 "metadata": {
  "kernelspec": {
   "display_name": "Python 3 (ipykernel)",
   "language": "python",
   "name": "python3"
  },
  "language_info": {
   "codemirror_mode": {
    "name": "ipython",
    "version": 3
   },
   "file_extension": ".py",
   "mimetype": "text/x-python",
   "name": "python",
   "nbconvert_exporter": "python",
   "pygments_lexer": "ipython3",
   "version": "3.11.7"
  }
 },
 "nbformat": 4,
 "nbformat_minor": 5
}
