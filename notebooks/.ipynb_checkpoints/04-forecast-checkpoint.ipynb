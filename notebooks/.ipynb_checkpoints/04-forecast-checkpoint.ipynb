{
 "cells": [
  {
   "cell_type": "code",
   "execution_count": 2,
   "id": "b075a442-4e0b-4197-896d-656ef3107720",
   "metadata": {},
   "outputs": [],
   "source": [
    "# import libraries\n",
    "\n",
    "import warnings\n",
    "warnings.simplefilter(action='ignore', category=FutureWarning)\n",
    "\n",
    "import pandas as pd\n",
    "import numpy as np\n",
    "import sklearn as sk\n",
    "from sklearn.model_selection import train_test_split\n",
    "from sklearn.ensemble import RandomForestRegressor\n",
    "import pickle\n",
    "from ipywidgets import widgets, interact\n",
    "pd.options.mode.chained_assignment = None"
   ]
  },
  {
   "cell_type": "code",
   "execution_count": 5,
   "id": "cce0e2ef-b9b2-48ba-8af4-ca40d9b607a4",
   "metadata": {},
   "outputs": [
    {
     "name": "stdout",
     "output_type": "stream",
     "text": [
      "(182075, 4)\n",
      "(182075, 1)\n"
     ]
    }
   ],
   "source": [
    "df_test_features = pd.read_csv('../data/03-processed/test_data.csv')\n",
    "df_test_labels = pd.read_csv('../data/03-processed/test_labels.csv')\n",
    "print(df_test_features.shape)\n",
    "print(df_test_labels.shape)"
   ]
  },
  {
   "cell_type": "code",
   "execution_count": 6,
   "id": "dca8c11a-6ccc-4e37-a475-4a5248255131",
   "metadata": {},
   "outputs": [],
   "source": [
    "X_test = df_test_features.values\n",
    "y_test = df_test_labels.values"
   ]
  },
  {
   "cell_type": "code",
   "execution_count": 7,
   "id": "a759a8e3-71cb-482f-8646-7a2abfa9d5d0",
   "metadata": {},
   "outputs": [],
   "source": [
    "# load\n",
    "with open('../data/04-trained-models/rf-trained-model.pkl', 'rb') as f:\n",
    "    rf_regressor = pickle.load(f)"
   ]
  },
  {
   "cell_type": "code",
   "execution_count": 9,
   "id": "764e1602-5ea2-479a-a2e3-147f684c7e0d",
   "metadata": {},
   "outputs": [
    {
     "data": {
      "text/plain": [
       "(182075,)"
      ]
     },
     "execution_count": 9,
     "metadata": {},
     "output_type": "execute_result"
    }
   ],
   "source": [
    "lt_pred = rf_regressor.predict(X_test)\n",
    "lt_pred.shape"
   ]
  },
  {
   "cell_type": "code",
   "execution_count": 10,
   "id": "72b4e9cf-70ec-4c7f-bc0c-5db69de3f289",
   "metadata": {},
   "outputs": [],
   "source": [
    "df_pred = pd.DataFrame(lt_pred)\n",
    "df_pred.to_csv('../data/05-inferences/pred_data.csv', index=False)"
   ]
  },
  {
   "cell_type": "code",
   "execution_count": null,
   "id": "8dc1d766-6a38-40a1-8ea0-3b64184c8222",
   "metadata": {},
   "outputs": [],
   "source": []
  }
 ],
 "metadata": {
  "kernelspec": {
   "display_name": "Python 3 (ipykernel)",
   "language": "python",
   "name": "python3"
  },
  "language_info": {
   "codemirror_mode": {
    "name": "ipython",
    "version": 3
   },
   "file_extension": ".py",
   "mimetype": "text/x-python",
   "name": "python",
   "nbconvert_exporter": "python",
   "pygments_lexer": "ipython3",
   "version": "3.11.7"
  }
 },
 "nbformat": 4,
 "nbformat_minor": 5
}
